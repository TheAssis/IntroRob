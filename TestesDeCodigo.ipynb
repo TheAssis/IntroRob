{
  "nbformat": 4,
  "nbformat_minor": 0,
  "metadata": {
    "colab": {
      "name": "TestesDeCodigo.ipynb",
      "version": "0.3.2",
      "provenance": [],
      "collapsed_sections": []
    },
    "kernelspec": {
      "name": "python3",
      "display_name": "Python 3"
    }
  },
  "cells": [
    {
      "cell_type": "code",
      "metadata": {
        "id": "qKx0kaMpAGO8",
        "colab_type": "code",
        "colab": {}
      },
      "source": [
        "import math\n",
        "#Direct Cynematics function\n",
        "def new_func_cd(v1a,v2a,v3a,v4a):\n",
        "    '''\n",
        "\t   input: joint variables\n",
        "\t   return: nothing, so far. Later, it gonna be list of lists (position and orientation)\n",
        "    '''\n",
        "    # Inputs in angles is turned to radians.\n",
        "    v1 = v1a*math.pi/180\n",
        "    v2 = v2a*math.pi/180\n",
        "    v3 = v3a*math.pi/180\n",
        "    v4 = v4a*math.pi/180\n",
        "    cd = list()\n",
        "    cd = [\n",
        "        [math.cos(v1)*math.cos(v2+v3+v4), -math.cos(v1)*math.sin(v2+v3+v4), math.sin(v1), math.cos(v1)*(87*math.cos(v2+v3+v4)+186*math.cos(v2+v3)+145*math.cos(v2))],\n",
        "        [math.sin(v1)*math.cos(v2+v3+v4), -math.sin(v1)*math.sin(v2+v3+v4), -math.cos(v1),  math.sin(v1)*(87*math.cos(v2+v3+v4)+186*math.cos(v2+v3)+145*math.cos(v2))], \n",
        "        [math.sin(v2+v3+v4), math.cos(v2+v3+v4),0, 73+87*math.sin(v2+v3+v4)+186*math.sin(v2+v3)+145*math.sin(v2)], \n",
        "        [0, 0, 0, 1]\n",
        "    ]\n",
        "    print (cd)\n"
      ],
      "execution_count": 0,
      "outputs": []
    },
    {
      "cell_type": "code",
      "metadata": {
        "id": "FLyA--L8B1TF",
        "colab_type": "code",
        "outputId": "98036f48-abd4-4473-e58d-56d052104b21",
        "colab": {
          "base_uri": "https://localhost:8080/",
          "height": 35
        }
      },
      "source": [
        "new_func_cd(0.0,0.0,0.0,0.0)"
      ],
      "execution_count": 26,
      "outputs": [
        {
          "output_type": "stream",
          "text": [
            "[[1.0, -0.0, 0.0, 418.0], [0.0, -0.0, -1.0, 0.0], [0.0, 1.0, 0, 73.0], [0, 0, 0, 1]]\n"
          ],
          "name": "stdout"
        }
      ]
    },
    {
      "cell_type": "code",
      "metadata": {
        "id": "rV3Pv4VoB4Sv",
        "colab_type": "code",
        "outputId": "85f511dc-e76d-4932-c9ed-f1b4d449b0aa",
        "colab": {
          "base_uri": "https://localhost:8080/",
          "height": 73
        }
      },
      "source": [
        "new_func_cd(0,0,0,90)\n",
        "\n",
        "'''\n",
        "new_func_cd(0,0,0,-90)\n",
        "[\n",
        "[0,1,0,331]\n",
        "[0,0,-1,0]\n",
        "[-1,0,0,-14]\n",
        "[0,0,0,1]\n",
        "]\n",
        "\n",
        "\n",
        "new_func_cd(0,0,0,90)\n",
        "[\n",
        "[0,1,0,331]\n",
        "[0,0,-1,0]\n",
        "[-1,0,0,160]\n",
        "[0,0,0,1]\n",
        "]\n",
        "'''\n",
        "\n"
      ],
      "execution_count": 27,
      "outputs": [
        {
          "output_type": "stream",
          "text": [
            "[[6.123233995736766e-17, -1.0, 0.0, 331.0], [0.0, -0.0, -1.0, 0.0], [1.0, 6.123233995736766e-17, 0, 160.0], [0, 0, 0, 1]]\n"
          ],
          "name": "stdout"
        },
        {
          "output_type": "execute_result",
          "data": {
            "text/plain": [
              "'\\nnew_func_cd(0,0,0,-90)\\n[\\n[0,1,0,331]\\n[0,0,-1,0]\\n[-1,0,0,-14]\\n[0,0,0,1]\\n]\\n\\n\\nnew_func_cd(0,0,0,90)\\n[\\n[0,1,0,331]\\n[0,0,-1,0]\\n[-1,0,0,160]\\n[0,0,0,1]\\n]\\n'"
            ]
          },
          "metadata": {
            "tags": []
          },
          "execution_count": 27
        }
      ]
    },
    {
      "cell_type": "code",
      "metadata": {
        "id": "nUxBbxrCjkXd",
        "colab_type": "code",
        "colab": {}
      },
      "source": [
        "L1 = 28+45\n",
        "L2 = 145\n",
        "L3 = 186\n",
        "L4 = 87\n",
        "\n",
        "#Inverse Cynematics function\n",
        "def func_ic(x,y,z,phi):\n",
        "    '''\n",
        "\t   input: position and angle\n",
        "\t   output: Tuple containing angular positions, in radians\n",
        "    '''\n",
        "    if x*x+y*y+(z-L4)*(z-L4) > (L2+L3+L4)*(L2+L3+L4):\n",
        "      print(\"a regiao esta alem do alcance maximo do braco\")\n",
        "    else:\n",
        "      print(\"regiao alcancavel\")\n",
        "    print(\"phi = \",phi, \"°\")\n",
        "    phi = phi*math.pi/180 #phi is turned to radians\n",
        "    print(\"phi = \",phi,\" rad\")\n",
        "    theta_1 = math.atan2(y,x) # relation just valid for math.sqrt(y*y+x*x) != 0\n",
        "    print(\"theta_1 = \",theta_1)\n",
        "    R1 = math.sqrt( math.pow(z-L4*math.sin(phi)-L1,2) + math.pow(x-L4*math.cos(phi),2) )\n",
        "    print(\"R1 = \",R1)\n",
        "    cos_a1 = ((L2*L2)+(R1*R1)-(L3*L3))/(2*L2*R1) # a1 = math.atan2( math.sqrt( 1-cos_a1*cos_a1) , cos_a1 )\n",
        "    print(\"R1*R1 = \",R1*R1)\n",
        "    print(\"L3²-L2² = \",L3*L3-L2*L2)\n",
        "    print(\"L3²-L2²+2*L2*R1 = \",L3*L3-L2*L2+2*L2*R1)\n",
        "    if (R1*R1>=L3*L3-L2*L2)&(R1*R1<=L3*L3-L2*L2+2*L2*R1):\n",
        "      print(\"cos_a1<1\")\n",
        "    else:\n",
        "      print(\"cos_a1>1\")\n",
        "    print(\"cos_a1 = \",cos_a1)\n",
        "    theta_3 = math.pi/2 + math.atan2( math.sqrt( 1-cos_a1*cos_a1) , cos_a1 ) - math.atan2( math.sqrt(1- (L2*cos_a1/L3)*(L2*cos_a1/L3)) , L2*cos_a1/L3 ) \n",
        "    print(\"theta_3 = \",theta_3)\n",
        "    theta_2 = math.atan2(z-L4*math.sin(phi)-L1,x-L4*math.cos(phi))-theta_3\n",
        "    print(\"theta_2 = \",theta_2)\n",
        "    theta_4 = phi-theta_2-theta_3\n",
        "    print(\"theta_4 = \",theta_4) \n",
        "    return theta_1,theta_2,theta_3,theta_4"
      ],
      "execution_count": 0,
      "outputs": []
    },
    {
      "cell_type": "code",
      "metadata": {
        "id": "_YO7bU-XWBp_",
        "colab_type": "code",
        "outputId": "d21a001e-7d5a-4680-9446-881d840ffb9b",
        "colab": {
          "base_uri": "https://localhost:8080/",
          "height": 73
        }
      },
      "source": [
        "R1 = 332\n",
        "cos_a1 = ((L2*L2)+(R1*R1)-(L3*L3))/(2*L2*R1) # a1 = math.atan2( math.sqrt( 1-cos_a1*cos_a1) , cos_a1 )\n",
        "print(cos_a1)\n",
        "\n",
        "'''\n",
        "se r1 = -332, cos_a1 ~ -1.004\n",
        "se r1 = -331, cos_a1 = -1\n",
        "se r1 = -321, cos_a1 ~ -0.96\n",
        "se r1 = -41, cos_a1 ~ -1.00\n",
        "se r1 = -31, cos_a1 ~ 1.40\n",
        "se r1 = 30, cos_a1 ~ -1.456\n",
        "se r1 = 41, cos_a1 = -1.0\n",
        "se r1 = 100,cos_a1 ~ -0.12\n",
        "se r1 = 331, cos_a1 = 1.0\n",
        "se r1 = 5000, cos_a1 = 17.33202\n",
        "'''"
      ],
      "execution_count": 29,
      "outputs": [
        {
          "output_type": "stream",
          "text": [
            "1.0038741171582883\n"
          ],
          "name": "stdout"
        },
        {
          "output_type": "execute_result",
          "data": {
            "text/plain": [
              "'\\nse r1 = -332, cos_a1 ~ -1.004\\nse r1 = -331, cos_a1 = -1\\nse r1 = -321, cos_a1 ~ -0.96\\nse r1 = -41, cos_a1 ~ -1.00\\nse r1 = -31, cos_a1 ~ 1.40\\nse r1 = 30, cos_a1 ~ -1.456\\nse r1 = 41, cos_a1 = -1.0\\nse r1 = 100,cos_a1 ~ -0.12\\nse r1 = 331, cos_a1 = 1.0\\nse r1 = 5000, cos_a1 = 17.33202\\n'"
            ]
          },
          "metadata": {
            "tags": []
          },
          "execution_count": 29
        }
      ]
    },
    {
      "cell_type": "code",
      "metadata": {
        "id": "l-X_D8a-jtBG",
        "colab_type": "code",
        "outputId": "e2b58880-2ffd-48ad-b018-491e67bc93cc",
        "colab": {
          "base_uri": "https://localhost:8080/",
          "height": 287
        }
      },
      "source": [
        "func_ic(L4,0,L1+L2+L3,0)\n",
        "# expected answer: (0,90,0,-90)° ~ (0,1.5708,0,-1.5708) rad\n",
        "new_func_cd(0,38.778787984685777701,51.221212015537481932,-1.5707963267948966)"
      ],
      "execution_count": 30,
      "outputs": [
        {
          "output_type": "stream",
          "text": [
            "regiao alcancavel\n",
            "phi =  0 °\n",
            "phi =  0.0  rad\n",
            "theta_1 =  0.0\n",
            "R1 =  331.0\n",
            "R1*R1 =  109561.0\n",
            "L3²-L2² =  13571\n",
            "L3²-L2²+2*L2*R1 =  109561.0\n",
            "cos_a1<1\n",
            "cos_a1 =  1.0\n",
            "theta_3 =  0.8939787965309923\n",
            "theta_2 =  0.6768175302639042\n",
            "theta_4 =  -1.5707963267948966\n",
            "[[0.02741213358814906, -0.9996242168595885, 0.0, 115.42249002989386], [0.0, -0.0, -1.0, 0.0], [0.9996242168595885, 0.02741213358814906, 0, 436.78301700187967], [0, 0, 0, 1]]\n"
          ],
          "name": "stdout"
        }
      ]
    },
    {
      "cell_type": "code",
      "metadata": {
        "id": "zVvTDgGPpC2j",
        "colab_type": "code",
        "outputId": "c31519b9-5370-407d-d852-b697c51c3fb4",
        "colab": {
          "base_uri": "https://localhost:8080/",
          "height": 267
        }
      },
      "source": [
        "func_ic(L2+L4,0,L1+L3,0)\n",
        "# expected response: (0,0,90,-90)° ~(0,0,1.5708,-1.5708)rad"
      ],
      "execution_count": 31,
      "outputs": [
        {
          "output_type": "stream",
          "text": [
            "regiao alcancavel\n",
            "phi =  0 °\n",
            "phi =  0.0  rad\n",
            "theta_1 =  0.0\n",
            "R1 =  235.84104816592043\n",
            "R1*R1 =  55621.0\n",
            "L3²-L2² =  13571\n",
            "L3²-L2²+2*L2*R1 =  81964.90396811692\n",
            "cos_a1<1\n",
            "cos_a1 =  0.6148208767202759\n",
            "theta_3 =  1.408489722640482\n",
            "theta_2 =  -0.49985222061122647\n",
            "theta_4 =  -0.9086375020292555\n"
          ],
          "name": "stdout"
        },
        {
          "output_type": "execute_result",
          "data": {
            "text/plain": [
              "(0.0, -0.49985222061122647, 1.408489722640482, -0.9086375020292555)"
            ]
          },
          "metadata": {
            "tags": []
          },
          "execution_count": 31
        }
      ]
    },
    {
      "cell_type": "code",
      "metadata": {
        "id": "cWMoNDqCsUBJ",
        "colab_type": "code",
        "outputId": "2457a6d7-ce9b-41b6-ce44-87cbb700cf4c",
        "colab": {
          "base_uri": "https://localhost:8080/",
          "height": 267
        }
      },
      "source": [
        "func_ic(-L2-L4,0,L1-L3,180)"
      ],
      "execution_count": 32,
      "outputs": [
        {
          "output_type": "stream",
          "text": [
            "regiao alcancavel\n",
            "phi =  180 °\n",
            "phi =  3.141592653589793  rad\n",
            "theta_1 =  3.141592653589793\n",
            "R1 =  235.84104816592043\n",
            "R1*R1 =  55621.0\n",
            "L3²-L2² =  13571\n",
            "L3²-L2²+2*L2*R1 =  81964.90396811692\n",
            "cos_a1<1\n",
            "cos_a1 =  0.6148208767202759\n",
            "theta_3 =  1.408489722640482\n",
            "theta_2 =  -3.6414448742010195\n",
            "theta_4 =  5.37454780515033\n"
          ],
          "name": "stdout"
        },
        {
          "output_type": "execute_result",
          "data": {
            "text/plain": [
              "(3.141592653589793, -3.6414448742010195, 1.408489722640482, 5.37454780515033)"
            ]
          },
          "metadata": {
            "tags": []
          },
          "execution_count": 32
        }
      ]
    },
    {
      "cell_type": "code",
      "metadata": {
        "id": "O6X5BO72tsTG",
        "colab_type": "code",
        "outputId": "0518084c-7415-4795-bfad-cfeeb8f8b67f",
        "colab": {
          "base_uri": "https://localhost:8080/",
          "height": 493
        }
      },
      "source": [
        "func_ic(0,L4,L1+L2+L3,0)"
      ],
      "execution_count": 33,
      "outputs": [
        {
          "output_type": "stream",
          "text": [
            "regiao alcancavel\n",
            "phi =  0 °\n",
            "phi =  0.0  rad\n",
            "theta_1 =  1.5707963267948966\n",
            "R1 =  342.24260401066374\n",
            "R1*R1 =  117129.99999999999\n",
            "L3²-L2² =  13571\n",
            "L3²-L2²+2*L2*R1 =  112821.35516309248\n",
            "cos_a1>1\n",
            "cos_a1 =  1.0434118833109198\n"
          ],
          "name": "stdout"
        },
        {
          "output_type": "error",
          "ename": "ValueError",
          "evalue": "ignored",
          "traceback": [
            "\u001b[0;31m---------------------------------------------------------------------------\u001b[0m",
            "\u001b[0;31mValueError\u001b[0m                                Traceback (most recent call last)",
            "\u001b[0;32m<ipython-input-33-8a1f800eeb38>\u001b[0m in \u001b[0;36m<module>\u001b[0;34m()\u001b[0m\n\u001b[0;32m----> 1\u001b[0;31m \u001b[0mfunc_ic\u001b[0m\u001b[0;34m(\u001b[0m\u001b[0;36m0\u001b[0m\u001b[0;34m,\u001b[0m\u001b[0mL4\u001b[0m\u001b[0;34m,\u001b[0m\u001b[0mL1\u001b[0m\u001b[0;34m+\u001b[0m\u001b[0mL2\u001b[0m\u001b[0;34m+\u001b[0m\u001b[0mL3\u001b[0m\u001b[0;34m,\u001b[0m\u001b[0;36m0\u001b[0m\u001b[0;34m)\u001b[0m\u001b[0;34m\u001b[0m\u001b[0;34m\u001b[0m\u001b[0m\n\u001b[0m",
            "\u001b[0;32m<ipython-input-28-bb1bddbea099>\u001b[0m in \u001b[0;36mfunc_ic\u001b[0;34m(x, y, z, phi)\u001b[0m\n\u001b[1;32m     30\u001b[0m       \u001b[0mprint\u001b[0m\u001b[0;34m(\u001b[0m\u001b[0;34m\"cos_a1>1\"\u001b[0m\u001b[0;34m)\u001b[0m\u001b[0;34m\u001b[0m\u001b[0;34m\u001b[0m\u001b[0m\n\u001b[1;32m     31\u001b[0m     \u001b[0mprint\u001b[0m\u001b[0;34m(\u001b[0m\u001b[0;34m\"cos_a1 = \"\u001b[0m\u001b[0;34m,\u001b[0m\u001b[0mcos_a1\u001b[0m\u001b[0;34m)\u001b[0m\u001b[0;34m\u001b[0m\u001b[0;34m\u001b[0m\u001b[0m\n\u001b[0;32m---> 32\u001b[0;31m     \u001b[0mtheta_3\u001b[0m \u001b[0;34m=\u001b[0m \u001b[0mmath\u001b[0m\u001b[0;34m.\u001b[0m\u001b[0mpi\u001b[0m\u001b[0;34m/\u001b[0m\u001b[0;36m2\u001b[0m \u001b[0;34m+\u001b[0m \u001b[0mmath\u001b[0m\u001b[0;34m.\u001b[0m\u001b[0matan2\u001b[0m\u001b[0;34m(\u001b[0m \u001b[0mmath\u001b[0m\u001b[0;34m.\u001b[0m\u001b[0msqrt\u001b[0m\u001b[0;34m(\u001b[0m \u001b[0;36m1\u001b[0m\u001b[0;34m-\u001b[0m\u001b[0mcos_a1\u001b[0m\u001b[0;34m*\u001b[0m\u001b[0mcos_a1\u001b[0m\u001b[0;34m)\u001b[0m \u001b[0;34m,\u001b[0m \u001b[0mcos_a1\u001b[0m \u001b[0;34m)\u001b[0m \u001b[0;34m-\u001b[0m \u001b[0mmath\u001b[0m\u001b[0;34m.\u001b[0m\u001b[0matan2\u001b[0m\u001b[0;34m(\u001b[0m \u001b[0mmath\u001b[0m\u001b[0;34m.\u001b[0m\u001b[0msqrt\u001b[0m\u001b[0;34m(\u001b[0m\u001b[0;36m1\u001b[0m\u001b[0;34m-\u001b[0m \u001b[0;34m(\u001b[0m\u001b[0mL2\u001b[0m\u001b[0;34m*\u001b[0m\u001b[0mcos_a1\u001b[0m\u001b[0;34m/\u001b[0m\u001b[0mL3\u001b[0m\u001b[0;34m)\u001b[0m\u001b[0;34m*\u001b[0m\u001b[0;34m(\u001b[0m\u001b[0mL2\u001b[0m\u001b[0;34m*\u001b[0m\u001b[0mcos_a1\u001b[0m\u001b[0;34m/\u001b[0m\u001b[0mL3\u001b[0m\u001b[0;34m)\u001b[0m\u001b[0;34m)\u001b[0m \u001b[0;34m,\u001b[0m \u001b[0mL2\u001b[0m\u001b[0;34m*\u001b[0m\u001b[0mcos_a1\u001b[0m\u001b[0;34m/\u001b[0m\u001b[0mL3\u001b[0m \u001b[0;34m)\u001b[0m\u001b[0;34m\u001b[0m\u001b[0;34m\u001b[0m\u001b[0m\n\u001b[0m\u001b[1;32m     33\u001b[0m     \u001b[0mprint\u001b[0m\u001b[0;34m(\u001b[0m\u001b[0;34m\"theta_3 = \"\u001b[0m\u001b[0;34m,\u001b[0m\u001b[0mtheta_3\u001b[0m\u001b[0;34m)\u001b[0m\u001b[0;34m\u001b[0m\u001b[0;34m\u001b[0m\u001b[0m\n\u001b[1;32m     34\u001b[0m     \u001b[0mtheta_2\u001b[0m \u001b[0;34m=\u001b[0m \u001b[0mmath\u001b[0m\u001b[0;34m.\u001b[0m\u001b[0matan2\u001b[0m\u001b[0;34m(\u001b[0m\u001b[0mz\u001b[0m\u001b[0;34m-\u001b[0m\u001b[0mL4\u001b[0m\u001b[0;34m*\u001b[0m\u001b[0mmath\u001b[0m\u001b[0;34m.\u001b[0m\u001b[0msin\u001b[0m\u001b[0;34m(\u001b[0m\u001b[0mphi\u001b[0m\u001b[0;34m)\u001b[0m\u001b[0;34m-\u001b[0m\u001b[0mL1\u001b[0m\u001b[0;34m,\u001b[0m\u001b[0mx\u001b[0m\u001b[0;34m-\u001b[0m\u001b[0mL4\u001b[0m\u001b[0;34m*\u001b[0m\u001b[0mmath\u001b[0m\u001b[0;34m.\u001b[0m\u001b[0mcos\u001b[0m\u001b[0;34m(\u001b[0m\u001b[0mphi\u001b[0m\u001b[0;34m)\u001b[0m\u001b[0;34m)\u001b[0m\u001b[0;34m-\u001b[0m\u001b[0mtheta_3\u001b[0m\u001b[0;34m\u001b[0m\u001b[0;34m\u001b[0m\u001b[0m\n",
            "\u001b[0;31mValueError\u001b[0m: math domain error"
          ]
        }
      ]
    }
  ]
}