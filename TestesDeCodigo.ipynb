{
  "nbformat": 4,
  "nbformat_minor": 0,
  "metadata": {
    "colab": {
      "name": "TestesDeCodigo.ipynb",
      "version": "0.3.2",
      "provenance": [],
      "collapsed_sections": []
    },
    "kernelspec": {
      "name": "python3",
      "display_name": "Python 3"
    }
  },
  "cells": [
    {
      "cell_type": "code",
      "metadata": {
        "id": "qKx0kaMpAGO8",
        "colab_type": "code",
        "colab": {}
      },
      "source": [
        "import math\n",
        "#Direct Cynematics function\n",
        "def new_func_cd(v1a,v2a,v3a,v4a):\n",
        "    '''\n",
        "\t   input: joint variables\n",
        "\t   return: nothing, so far. Later, it gonna be list of lists (position and orientation)\n",
        "    '''\n",
        "    # Inputs in angles is turned to radians.\n",
        "    v1 = math.radians(v1a)\n",
        "    v2 = math.radians(v2a)\n",
        "    v3 = math.radians(v3a)\n",
        "    v4 = math.radians(v4a)\n",
        "    cd = list()\n",
        "    cd = [\n",
        "        [math.cos(v1)*math.cos(v2+v3+v4), -math.cos(v1)*math.sin(v2+v3+v4), math.sin(v1), math.cos(v1)*(87*math.cos(v2+v3+v4)+186*math.cos(v2+v3)+145*math.cos(v2))],\n",
        "        [math.sin(v1)*math.cos(v2+v3+v4), -math.sin(v1)*math.sin(v2+v3+v4), -math.cos(v1),  math.sin(v1)*(87*math.cos(v2+v3+v4)+186*math.cos(v2+v3)+145*math.cos(v2))], \n",
        "        [math.sin(v2+v3+v4), math.cos(v2+v3+v4),0, 73+87*math.sin(v2+v3+v4)+186*math.sin(v2+v3)+145*math.sin(v2)], \n",
        "        [0, 0, 0, 1]\n",
        "    ]\n",
        "    print (cd)\n"
      ],
      "execution_count": 0,
      "outputs": []
    },
    {
      "cell_type": "code",
      "metadata": {
        "id": "FLyA--L8B1TF",
        "colab_type": "code",
        "outputId": "2dcc1afd-be96-404a-c129-9a34f9d63b10",
        "colab": {
          "base_uri": "https://localhost:8080/",
          "height": 34
        }
      },
      "source": [
        "new_func_cd(0.0,0.0,0.0,0.0)"
      ],
      "execution_count": 2,
      "outputs": [
        {
          "output_type": "stream",
          "text": [
            "[[1.0, -0.0, 0.0, 418.0], [0.0, -0.0, -1.0, 0.0], [0.0, 1.0, 0, 73.0], [0, 0, 0, 1]]\n"
          ],
          "name": "stdout"
        }
      ]
    },
    {
      "cell_type": "code",
      "metadata": {
        "id": "rV3Pv4VoB4Sv",
        "colab_type": "code",
        "outputId": "7c8b8baa-fe1a-4fe7-a73b-3fefe855648b",
        "colab": {
          "base_uri": "https://localhost:8080/",
          "height": 51
        }
      },
      "source": [
        "new_func_cd(0,0,0,90)\n",
        "\n",
        "'''\n",
        "new_func_cd(0,0,0,-90)\n",
        "[\n",
        "[0,1,0,331]\n",
        "[0,0,-1,0]\n",
        "[-1,0,0,-14]\n",
        "[0,0,0,1]\n",
        "]\n",
        "\n",
        "\n",
        "new_func_cd(0,0,0,90)\n",
        "[\n",
        "[0,1,0,331]\n",
        "[0,0,-1,0]\n",
        "[-1,0,0,160]\n",
        "[0,0,0,1]\n",
        "]\n",
        "'''\n",
        "\n"
      ],
      "execution_count": 3,
      "outputs": [
        {
          "output_type": "stream",
          "text": [
            "[[6.123233995736766e-17, -1.0, 0.0, 331.0], [0.0, -0.0, -1.0, 0.0], [1.0, 6.123233995736766e-17, 0, 160.0], [0, 0, 0, 1]]\n"
          ],
          "name": "stdout"
        },
        {
          "output_type": "execute_result",
          "data": {
            "text/plain": [
              "'\\nnew_func_cd(0,0,0,-90)\\n[\\n[0,1,0,331]\\n[0,0,-1,0]\\n[-1,0,0,-14]\\n[0,0,0,1]\\n]\\n\\n\\nnew_func_cd(0,0,0,90)\\n[\\n[0,1,0,331]\\n[0,0,-1,0]\\n[-1,0,0,160]\\n[0,0,0,1]\\n]\\n'"
            ]
          },
          "metadata": {
            "tags": []
          },
          "execution_count": 3
        }
      ]
    },
    {
      "cell_type": "code",
      "metadata": {
        "id": "nUxBbxrCjkXd",
        "colab_type": "code",
        "colab": {}
      },
      "source": [
        "L1 = 28+45\n",
        "L2 = 145\n",
        "L3 = 186\n",
        "L4 = 87\n",
        "\n",
        "#Inverse Cynematics function\n",
        "def func_ic(x,y,z,phi):\n",
        "    '''\n",
        "\t   input: position and angle\n",
        "\t   output: Tuple containing angular positions, in radians\n",
        "    '''\n",
        "    if x*x+y*y+(z-L4)*(z-L4) > (L2+L3+L4)*(L2+L3+L4):\n",
        "      print(\"a regiao esta alem do alcance maximo do braco\")\n",
        "    else:\n",
        "      print(\"regiao alcancavel\")\n",
        "    print(\"phi = \",phi, \"°\")\n",
        "    phi = math.radians(phi)#phi is turned to radians\n",
        "    print(\"phi = \",phi,\" rad\")\n",
        "    if (x*x+y*y)!=0:\n",
        "      theta_1 = math.atan2(y,x) # relation just valid for math.sqrt(y*y+x*x) != 0\n",
        "      theta_1 = math.degrees(theta_1)\n",
        "    else:\n",
        "      theta_1 = math.nan\n",
        "    print(\"theta_1 = \",theta_1)\n",
        "    R1 = math.sqrt( math.pow(z-L4*math.sin(phi)-L1,2) + math.pow(x-L4*math.cos(phi),2) )\n",
        "    print(\"R1 = \",R1)\n",
        "    cos_a1 = ((L2*L2)+(R1*R1)-(L3*L3))/(2*L2*R1) # a1 = math.atan2( math.sqrt( 1-cos_a1*cos_a1) , cos_a1 )\n",
        "    print(\"R1*R1 = \",R1*R1)\n",
        "    print(\"L3²-L2² = \",L3*L3-L2*L2)\n",
        "    print(\"L3²-L2²+2*L2*R1 = \",L3*L3-L2*L2+2*L2*R1)\n",
        "    if (R1*R1>=L3*L3-L2*L2)&(R1*R1<=L3*L3-L2*L2+2*L2*R1):\n",
        "      print(\"cos_a1<1\")\n",
        "    else:\n",
        "      print(\"cos_a1>1\")\n",
        "    print(\"cos_a1 = \",cos_a1)\n",
        "    theta_3 = math.pi/2 + math.atan2( math.sqrt( 1-cos_a1*cos_a1) , cos_a1 ) - math.atan2( math.sqrt(1- (L2*cos_a1/L3)*(L2*cos_a1/L3)) , L2*cos_a1/L3 ) \n",
        "    theta_3 = math.degrees(theta_3) #theta_3 is turned to degrees\n",
        "    print(\"theta_3 = \",theta_3)\n",
        "    theta_2 = math.atan2(z-L4*math.sin(phi)-L1,x-L4*math.cos(phi))-theta_3\n",
        "    theta_2 = math.degrees(theta_2) #theta_2 is turned to degrees\n",
        "    print(\"theta_2 = \",theta_2)\n",
        "    theta_4 = phi-theta_2-theta_3 #already in degrees\n",
        "    print(\"theta_4 = \",theta_4) \n",
        "    return theta_1,theta_2,theta_3,theta_4"
      ],
      "execution_count": 0,
      "outputs": []
    },
    {
      "cell_type": "code",
      "metadata": {
        "id": "_YO7bU-XWBp_",
        "colab_type": "code",
        "outputId": "a2461480-b7a5-45d4-c175-0b415d151bd7",
        "colab": {
          "base_uri": "https://localhost:8080/",
          "height": 71
        }
      },
      "source": [
        "R1 = 332\n",
        "cos_a1 = ((L2*L2)+(R1*R1)-(L3*L3))/(2*L2*R1) # a1 = math.atan2( math.sqrt( 1-cos_a1*cos_a1) , cos_a1 )\n",
        "print(cos_a1)\n",
        "\n",
        "'''\n",
        "se r1 = -332, cos_a1 ~ -1.004\n",
        "se r1 = -331, cos_a1 = -1\n",
        "se r1 = -321, cos_a1 ~ -0.96\n",
        "se r1 = -41, cos_a1 ~ -1.00\n",
        "se r1 = -31, cos_a1 ~ 1.40\n",
        "se r1 = 30, cos_a1 ~ -1.456\n",
        "se r1 = 41, cos_a1 = -1.0\n",
        "se r1 = 100,cos_a1 ~ -0.12\n",
        "se r1 = 331, cos_a1 = 1.0\n",
        "se r1 = 5000, cos_a1 = 17.33202\n",
        "'''"
      ],
      "execution_count": 5,
      "outputs": [
        {
          "output_type": "stream",
          "text": [
            "1.0038741171582883\n"
          ],
          "name": "stdout"
        },
        {
          "output_type": "execute_result",
          "data": {
            "text/plain": [
              "'\\nse r1 = -332, cos_a1 ~ -1.004\\nse r1 = -331, cos_a1 = -1\\nse r1 = -321, cos_a1 ~ -0.96\\nse r1 = -41, cos_a1 ~ -1.00\\nse r1 = -31, cos_a1 ~ 1.40\\nse r1 = 30, cos_a1 ~ -1.456\\nse r1 = 41, cos_a1 = -1.0\\nse r1 = 100,cos_a1 ~ -0.12\\nse r1 = 331, cos_a1 = 1.0\\nse r1 = 5000, cos_a1 = 17.33202\\n'"
            ]
          },
          "metadata": {
            "tags": []
          },
          "execution_count": 5
        }
      ]
    },
    {
      "cell_type": "code",
      "metadata": {
        "id": "l-X_D8a-jtBG",
        "colab_type": "code",
        "outputId": "1b8ceb2c-d5b9-4352-a432-39f5ffd5b056",
        "colab": {
          "base_uri": "https://localhost:8080/",
          "height": 255
        }
      },
      "source": [
        "func_ic(L4,0,L1+L2+L3,0)\n",
        "# expected answer: (0,90,0,-90)° ~ (0,1.5708,0,-1.5708) rad\n",
        "new_func_cd(0,38.778787984685777701,51.221212015537481932,-1.5707963267948966)"
      ],
      "execution_count": 6,
      "outputs": [
        {
          "output_type": "stream",
          "text": [
            "regiao alcancavel\n",
            "phi =  0 °\n",
            "phi =  0.0  rad\n",
            "theta_1 =  0.0\n",
            "R1 =  331.0\n",
            "R1*R1 =  109561.0\n",
            "L3²-L2² =  13571\n",
            "L3²-L2²+2*L2*R1 =  109561.0\n",
            "cos_a1<1\n",
            "cos_a1 =  1.0\n",
            "theta_3 =  51.22121201541042\n",
            "theta_2 =  -2844.7592700277987\n",
            "theta_4 =  2793.5380580123883\n",
            "[[0.02741213358814906, -0.9996242168595885, 0.0, 115.42249002989386], [0.0, -0.0, -1.0, 0.0], [0.9996242168595885, 0.02741213358814906, 0, 436.78301700187967], [0, 0, 0, 1]]\n"
          ],
          "name": "stdout"
        }
      ]
    },
    {
      "cell_type": "code",
      "metadata": {
        "id": "zVvTDgGPpC2j",
        "colab_type": "code",
        "outputId": "d426d0f6-494e-4b5e-9697-d410f6f2bf21",
        "colab": {
          "base_uri": "https://localhost:8080/",
          "height": 255
        }
      },
      "source": [
        "func_ic(L2+L4,0,L1+L3,0)\n",
        "# expected response: (0,0,90,-90)° ~(0,0,1.5708,-1.5708)rad"
      ],
      "execution_count": 7,
      "outputs": [
        {
          "output_type": "stream",
          "text": [
            "regiao alcancavel\n",
            "phi =  0 °\n",
            "phi =  0.0  rad\n",
            "theta_1 =  0.0\n",
            "R1 =  235.84104816592043\n",
            "R1*R1 =  55621.0\n",
            "L3²-L2² =  13571\n",
            "L3²-L2²+2*L2*R1 =  81964.90396811692\n",
            "cos_a1<1\n",
            "cos_a1 =  0.6148208767202759\n",
            "theta_3 =  80.70051659485154\n",
            "theta_2 =  -4571.737911436869\n",
            "theta_4 =  4491.037394842017\n"
          ],
          "name": "stdout"
        },
        {
          "output_type": "execute_result",
          "data": {
            "text/plain": [
              "(0.0, -4571.737911436869, 80.70051659485154, 4491.037394842017)"
            ]
          },
          "metadata": {
            "tags": []
          },
          "execution_count": 7
        }
      ]
    },
    {
      "cell_type": "code",
      "metadata": {
        "id": "cWMoNDqCsUBJ",
        "colab_type": "code",
        "outputId": "793cf5fb-9cf9-4c18-fd82-cd4e9c771f0e",
        "colab": {
          "base_uri": "https://localhost:8080/",
          "height": 255
        }
      },
      "source": [
        "func_ic(-L2-L4,0,L1-L3,180)"
      ],
      "execution_count": 8,
      "outputs": [
        {
          "output_type": "stream",
          "text": [
            "regiao alcancavel\n",
            "phi =  180 °\n",
            "phi =  3.141592653589793  rad\n",
            "theta_1 =  180.0\n",
            "R1 =  235.84104816592043\n",
            "R1*R1 =  55621.0\n",
            "L3²-L2² =  13571\n",
            "L3²-L2²+2*L2*R1 =  81964.90396811692\n",
            "cos_a1<1\n",
            "cos_a1 =  0.6148208767202759\n",
            "theta_3 =  80.70051659485154\n",
            "theta_2 =  -4751.737911436868\n",
            "theta_4 =  4674.178987495607\n"
          ],
          "name": "stdout"
        },
        {
          "output_type": "execute_result",
          "data": {
            "text/plain": [
              "(180.0, -4751.737911436868, 80.70051659485154, 4674.178987495607)"
            ]
          },
          "metadata": {
            "tags": []
          },
          "execution_count": 8
        }
      ]
    },
    {
      "cell_type": "code",
      "metadata": {
        "id": "O6X5BO72tsTG",
        "colab_type": "code",
        "outputId": "5a1467ff-5f2f-4385-fabf-da0575d14e51",
        "colab": {
          "base_uri": "https://localhost:8080/",
          "height": 452
        }
      },
      "source": [
        "func_ic(0,L4,L1+L2+L3,0)"
      ],
      "execution_count": 9,
      "outputs": [
        {
          "output_type": "stream",
          "text": [
            "regiao alcancavel\n",
            "phi =  0 °\n",
            "phi =  0.0  rad\n",
            "theta_1 =  90.0\n",
            "R1 =  342.24260401066374\n",
            "R1*R1 =  117129.99999999999\n",
            "L3²-L2² =  13571\n",
            "L3²-L2²+2*L2*R1 =  112821.35516309248\n",
            "cos_a1>1\n",
            "cos_a1 =  1.0434118833109198\n"
          ],
          "name": "stdout"
        },
        {
          "output_type": "error",
          "ename": "ValueError",
          "evalue": "ignored",
          "traceback": [
            "\u001b[0;31m---------------------------------------------------------------------------\u001b[0m",
            "\u001b[0;31mValueError\u001b[0m                                Traceback (most recent call last)",
            "\u001b[0;32m<ipython-input-9-8a1f800eeb38>\u001b[0m in \u001b[0;36m<module>\u001b[0;34m()\u001b[0m\n\u001b[0;32m----> 1\u001b[0;31m \u001b[0mfunc_ic\u001b[0m\u001b[0;34m(\u001b[0m\u001b[0;36m0\u001b[0m\u001b[0;34m,\u001b[0m\u001b[0mL4\u001b[0m\u001b[0;34m,\u001b[0m\u001b[0mL1\u001b[0m\u001b[0;34m+\u001b[0m\u001b[0mL2\u001b[0m\u001b[0;34m+\u001b[0m\u001b[0mL3\u001b[0m\u001b[0;34m,\u001b[0m\u001b[0;36m0\u001b[0m\u001b[0;34m)\u001b[0m\u001b[0;34m\u001b[0m\u001b[0;34m\u001b[0m\u001b[0m\n\u001b[0m",
            "\u001b[0;32m<ipython-input-4-9cafebc0b333>\u001b[0m in \u001b[0;36mfunc_ic\u001b[0;34m(x, y, z, phi)\u001b[0m\n\u001b[1;32m     34\u001b[0m       \u001b[0mprint\u001b[0m\u001b[0;34m(\u001b[0m\u001b[0;34m\"cos_a1>1\"\u001b[0m\u001b[0;34m)\u001b[0m\u001b[0;34m\u001b[0m\u001b[0;34m\u001b[0m\u001b[0m\n\u001b[1;32m     35\u001b[0m     \u001b[0mprint\u001b[0m\u001b[0;34m(\u001b[0m\u001b[0;34m\"cos_a1 = \"\u001b[0m\u001b[0;34m,\u001b[0m\u001b[0mcos_a1\u001b[0m\u001b[0;34m)\u001b[0m\u001b[0;34m\u001b[0m\u001b[0;34m\u001b[0m\u001b[0m\n\u001b[0;32m---> 36\u001b[0;31m     \u001b[0mtheta_3\u001b[0m \u001b[0;34m=\u001b[0m \u001b[0mmath\u001b[0m\u001b[0;34m.\u001b[0m\u001b[0mpi\u001b[0m\u001b[0;34m/\u001b[0m\u001b[0;36m2\u001b[0m \u001b[0;34m+\u001b[0m \u001b[0mmath\u001b[0m\u001b[0;34m.\u001b[0m\u001b[0matan2\u001b[0m\u001b[0;34m(\u001b[0m \u001b[0mmath\u001b[0m\u001b[0;34m.\u001b[0m\u001b[0msqrt\u001b[0m\u001b[0;34m(\u001b[0m \u001b[0;36m1\u001b[0m\u001b[0;34m-\u001b[0m\u001b[0mcos_a1\u001b[0m\u001b[0;34m*\u001b[0m\u001b[0mcos_a1\u001b[0m\u001b[0;34m)\u001b[0m \u001b[0;34m,\u001b[0m \u001b[0mcos_a1\u001b[0m \u001b[0;34m)\u001b[0m \u001b[0;34m-\u001b[0m \u001b[0mmath\u001b[0m\u001b[0;34m.\u001b[0m\u001b[0matan2\u001b[0m\u001b[0;34m(\u001b[0m \u001b[0mmath\u001b[0m\u001b[0;34m.\u001b[0m\u001b[0msqrt\u001b[0m\u001b[0;34m(\u001b[0m\u001b[0;36m1\u001b[0m\u001b[0;34m-\u001b[0m \u001b[0;34m(\u001b[0m\u001b[0mL2\u001b[0m\u001b[0;34m*\u001b[0m\u001b[0mcos_a1\u001b[0m\u001b[0;34m/\u001b[0m\u001b[0mL3\u001b[0m\u001b[0;34m)\u001b[0m\u001b[0;34m*\u001b[0m\u001b[0;34m(\u001b[0m\u001b[0mL2\u001b[0m\u001b[0;34m*\u001b[0m\u001b[0mcos_a1\u001b[0m\u001b[0;34m/\u001b[0m\u001b[0mL3\u001b[0m\u001b[0;34m)\u001b[0m\u001b[0;34m)\u001b[0m \u001b[0;34m,\u001b[0m \u001b[0mL2\u001b[0m\u001b[0;34m*\u001b[0m\u001b[0mcos_a1\u001b[0m\u001b[0;34m/\u001b[0m\u001b[0mL3\u001b[0m \u001b[0;34m)\u001b[0m\u001b[0;34m\u001b[0m\u001b[0;34m\u001b[0m\u001b[0m\n\u001b[0m\u001b[1;32m     37\u001b[0m     \u001b[0mtheta_3\u001b[0m \u001b[0;34m=\u001b[0m \u001b[0mmath\u001b[0m\u001b[0;34m.\u001b[0m\u001b[0mdegrees\u001b[0m\u001b[0;34m(\u001b[0m\u001b[0mtheta_3\u001b[0m\u001b[0;34m)\u001b[0m \u001b[0;31m#theta_3 is turned to degrees\u001b[0m\u001b[0;34m\u001b[0m\u001b[0;34m\u001b[0m\u001b[0m\n\u001b[1;32m     38\u001b[0m     \u001b[0mprint\u001b[0m\u001b[0;34m(\u001b[0m\u001b[0;34m\"theta_3 = \"\u001b[0m\u001b[0;34m,\u001b[0m\u001b[0mtheta_3\u001b[0m\u001b[0;34m)\u001b[0m\u001b[0;34m\u001b[0m\u001b[0;34m\u001b[0m\u001b[0m\n",
            "\u001b[0;31mValueError\u001b[0m: math domain error"
          ]
        }
      ]
    },
    {
      "cell_type": "code",
      "metadata": {
        "id": "sZ6_OCjKa5js",
        "colab_type": "code",
        "colab": {}
      },
      "source": [
        "def inversa(x,y,z,phi):\n",
        "  \n",
        "  phi = math.radians(phi) # The code needs a value in radians\n",
        "  \n",
        "  if (x*x+y*y) == 0:\n",
        "    theta_1 = math.nan\n",
        "  else:\n",
        "    theta_1 = math.atan2(y,x)\n",
        "    theta_1 = math.degrees(theta_1)\n",
        "  \n",
        "  '''\n",
        "  No plano definido por x1Oz1, a dimensão horizontal do triângulo é igual a\n",
        "   math.sqrt(x*x+y*y) - L4*math.cos(phi), e a dimensão vertical é dada por\n",
        "   z - L4*math.sin(phi) - L1\n",
        "  '''\n",
        "  R1 = math.sqrt ( math.pow(z-L4*math.sin(phi)-L1, 2) + math.pow(math.sqrt(x*x+y*y) - L4*math.cos(phi) , 2) )\n",
        "  cos_a1 =((L2*L2)+(R1*R1)-(L3*L3))/(2*L2*R1) #não esquecer parênteses no denominador\n",
        "  a1 = math.degrees(math.atan2(math.sqrt(1-cos_a1*cos_a1),cos_a1)) # alpha 1 in degrees\n",
        "  alpha = math.degrees( math.atan2( z - L4*math.sin(phi) - L1, math.sqrt(x*x+y*y) - L4*math.cos(phi) ) ) # alpha, in degrees.\n",
        "  \n",
        "  theta_2 = alpha - a1 # theta_2, in degrees\n",
        "  \n",
        "  theta_3 = 90 + a1 - math.degrees( math.acos( L2*math.sin( math.radians(a1) )/L3 ) ) # theta_3, in degrees\n",
        "  \n",
        "  phi = math.degrees( phi )\n",
        "  \n",
        "  theta_4 = phi - theta_2 - theta_3 # theta_4, in degrees\n",
        "\n",
        "  return theta_1,theta_2,theta_3,theta_4"
      ],
      "execution_count": 0,
      "outputs": []
    },
    {
      "cell_type": "code",
      "metadata": {
        "id": "YGiIDDBJcm0D",
        "colab_type": "code",
        "outputId": "4e4d30fb-e9a7-42be-ead5-20e57ca213cc",
        "colab": {
          "base_uri": "https://localhost:8080/",
          "height": 34
        }
      },
      "source": [
        "inversa(0,L4,L1+L2+L3,0)"
      ],
      "execution_count": 15,
      "outputs": [
        {
          "output_type": "execute_result",
          "data": {
            "text/plain": [
              "(90.0, 90.0, 0.0, -90.0)"
            ]
          },
          "metadata": {
            "tags": []
          },
          "execution_count": 15
        }
      ]
    }
  ]
}