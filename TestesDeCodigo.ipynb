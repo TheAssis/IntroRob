{
  "nbformat": 4,
  "nbformat_minor": 0,
  "metadata": {
    "colab": {
      "name": "TestesDeCodigo.ipynb",
      "version": "0.3.2",
      "provenance": [],
      "collapsed_sections": []
    },
    "kernelspec": {
      "name": "python3",
      "display_name": "Python 3"
    }
  },
  "cells": [
    {
      "cell_type": "code",
      "metadata": {
        "id": "qKx0kaMpAGO8",
        "colab_type": "code",
        "colab": {}
      },
      "source": [
        "import math\n",
        "#Direct Cynematics function\n",
        "def new_func_cd(v1a,v2a,v3a,v4a):\n",
        "    '''\n",
        "\t   input: joint variables\n",
        "\t   return: nothing, so far. Later, it gonna be list of lists (position and orientation)\n",
        "    '''\n",
        "    # Inputs in angles is turned to radians.\n",
        "    v1 = math.radians(v1a)\n",
        "    v2 = math.radians(v2a)\n",
        "    v3 = math.radians(v3a)\n",
        "    v4 = math.radians(v4a)\n",
        "    cd = list()\n",
        "    cd = [\n",
        "        [math.cos(v1)*math.cos(v2+v3+v4), -math.cos(v1)*math.sin(v2+v3+v4), math.sin(v1), math.cos(v1)*(87*math.cos(v2+v3+v4)+186*math.cos(v2+v3)+145*math.cos(v2))],\n",
        "        [math.sin(v1)*math.cos(v2+v3+v4), -math.sin(v1)*math.sin(v2+v3+v4), -math.cos(v1),  math.sin(v1)*(87*math.cos(v2+v3+v4)+186*math.cos(v2+v3)+145*math.cos(v2))], \n",
        "        [math.sin(v2+v3+v4), math.cos(v2+v3+v4),0, 73+87*math.sin(v2+v3+v4)+186*math.sin(v2+v3)+145*math.sin(v2)], \n",
        "        [0, 0, 0, 1]\n",
        "    ]\n",
        "    print (cd)\n"
      ],
      "execution_count": 0,
      "outputs": []
    },
    {
      "cell_type": "code",
      "metadata": {
        "id": "FLyA--L8B1TF",
        "colab_type": "code",
        "outputId": "2dcc1afd-be96-404a-c129-9a34f9d63b10",
        "colab": {
          "base_uri": "https://localhost:8080/",
          "height": 34
        }
      },
      "source": [
        "new_func_cd(0.0,0.0,0.0,0.0)"
      ],
      "execution_count": 2,
      "outputs": [
        {
          "output_type": "stream",
          "text": [
            "[[1.0, -0.0, 0.0, 418.0], [0.0, -0.0, -1.0, 0.0], [0.0, 1.0, 0, 73.0], [0, 0, 0, 1]]\n"
          ],
          "name": "stdout"
        }
      ]
    },
    {
      "cell_type": "code",
      "metadata": {
        "id": "rV3Pv4VoB4Sv",
        "colab_type": "code",
        "outputId": "7c8b8baa-fe1a-4fe7-a73b-3fefe855648b",
        "colab": {
          "base_uri": "https://localhost:8080/",
          "height": 51
        }
      },
      "source": [
        "new_func_cd(0,0,0,90)\n",
        "\n",
        "'''\n",
        "new_func_cd(0,0,0,-90)\n",
        "[\n",
        "[0,1,0,331]\n",
        "[0,0,-1,0]\n",
        "[-1,0,0,-14]\n",
        "[0,0,0,1]\n",
        "]\n",
        "\n",
        "\n",
        "new_func_cd(0,0,0,90)\n",
        "[\n",
        "[0,1,0,331]\n",
        "[0,0,-1,0]\n",
        "[-1,0,0,160]\n",
        "[0,0,0,1]\n",
        "]\n",
        "'''\n",
        "\n"
      ],
      "execution_count": 3,
      "outputs": [
        {
          "output_type": "stream",
          "text": [
            "[[6.123233995736766e-17, -1.0, 0.0, 331.0], [0.0, -0.0, -1.0, 0.0], [1.0, 6.123233995736766e-17, 0, 160.0], [0, 0, 0, 1]]\n"
          ],
          "name": "stdout"
        },
        {
          "output_type": "execute_result",
          "data": {
            "text/plain": [
              "'\\nnew_func_cd(0,0,0,-90)\\n[\\n[0,1,0,331]\\n[0,0,-1,0]\\n[-1,0,0,-14]\\n[0,0,0,1]\\n]\\n\\n\\nnew_func_cd(0,0,0,90)\\n[\\n[0,1,0,331]\\n[0,0,-1,0]\\n[-1,0,0,160]\\n[0,0,0,1]\\n]\\n'"
            ]
          },
          "metadata": {
            "tags": []
          },
          "execution_count": 3
        }
      ]
    },
    {
      "cell_type": "code",
      "metadata": {
        "id": "sZ6_OCjKa5js",
        "colab_type": "code",
        "colab": {}
      },
      "source": [
        "L1 = 28+45\n",
        "L2 = 145\n",
        "L3 = 186\n",
        "L4 = 87\n",
        "\n",
        "#Inverse Cynematics function\n",
        "def inversa(x,y,z,phi):\n",
        "  '''\n",
        "  input: cartesian position in {0}, and angle (in degrees) with the horizontal plane (x0Oy0)\n",
        "  output: a tuple, containing joint angles (in degrees)\n",
        "  '''\n",
        "  phi = math.radians(phi) # The code needs a value in radians\n",
        "  \n",
        "  if (x*x+y*y) == 0:\n",
        "    theta_1 = math.nan\n",
        "  else:\n",
        "    theta_1 = math.atan2(y,x)\n",
        "    theta_1 = math.degrees(theta_1)\n",
        "  \n",
        "  '''\n",
        "  No plano definido por x1Oz1, a dimensão horizontal do triângulo é igual a\n",
        "   math.sqrt(x*x+y*y) - L4*math.cos(phi), e a dimensão vertical é dada por\n",
        "   z - L4*math.sin(phi) - L1\n",
        "  '''\n",
        "  R1 = math.sqrt ( math.pow(z-L4*math.sin(phi)-L1, 2) + math.pow(math.sqrt(x*x+y*y) - L4*math.cos(phi) , 2) )\n",
        "  cos_a1 =((L2*L2)+(R1*R1)-(L3*L3))/(2*L2*R1) #não esquecer parênteses no denominador\n",
        "  a1 = math.degrees(math.atan2(math.sqrt(1-cos_a1*cos_a1),cos_a1)) # alpha 1 in degrees\n",
        "  alpha = math.degrees( math.atan2( z - L4*math.sin(phi) - L1, math.sqrt(x*x+y*y) - L4*math.cos(phi) ) ) # alpha, in degrees.\n",
        "  \n",
        "  theta_2 = alpha - a1 # theta_2, in degrees\n",
        "  \n",
        "  theta_3 = 90 + a1 - math.degrees( math.acos( L2*math.sin( math.radians(a1) )/L3 ) ) # theta_3, in degrees\n",
        "  \n",
        "  phi = math.degrees( phi )\n",
        "  \n",
        "  theta_4 = phi - theta_2 - theta_3 # theta_4, in degrees\n",
        "\n",
        "  return theta_1,theta_2,theta_3,theta_4"
      ],
      "execution_count": 0,
      "outputs": []
    },
    {
      "cell_type": "code",
      "metadata": {
        "id": "YGiIDDBJcm0D",
        "colab_type": "code",
        "outputId": "4e4d30fb-e9a7-42be-ead5-20e57ca213cc",
        "colab": {
          "base_uri": "https://localhost:8080/",
          "height": 34
        }
      },
      "source": [
        "inversa(0,L4,L1+L2+L3,0)"
      ],
      "execution_count": 15,
      "outputs": [
        {
          "output_type": "execute_result",
          "data": {
            "text/plain": [
              "(90.0, 90.0, 0.0, -90.0)"
            ]
          },
          "metadata": {
            "tags": []
          },
          "execution_count": 15
        }
      ]
    }
  ]
}