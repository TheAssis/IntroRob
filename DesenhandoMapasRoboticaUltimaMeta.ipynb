{
  "nbformat": 4,
  "nbformat_minor": 0,
  "metadata": {
    "colab": {
      "name": "DesenhandoMapasRoboticaUltimaMeta.ipynb",
      "version": "0.3.2",
      "provenance": [],
      "collapsed_sections": [],
      "include_colab_link": true
    },
    "kernelspec": {
      "name": "python3",
      "display_name": "Python 3"
    }
  },
  "cells": [
    {
      "cell_type": "markdown",
      "metadata": {
        "id": "view-in-github",
        "colab_type": "text"
      },
      "source": [
        "<a href=\"https://colab.research.google.com/github/mtxslv/controle_linxmotion/blob/master/DesenhandoMapasRoboticaUltimaMeta.ipynb\" target=\"_parent\"><img src=\"https://colab.research.google.com/assets/colab-badge.svg\" alt=\"Open In Colab\"/></a>"
      ]
    },
    {
      "cell_type": "markdown",
      "metadata": {
        "id": "6DJQ1AHj0Obt",
        "colab_type": "text"
      },
      "source": [
        "leia sobre [plotagem de linhas](https://stackoverflow.com/questions/21352580/matplotlib-plotting-numerous-disconnected-line-segments-with-different-colors) e sobre [plotagem de circulos](https://stackoverflow.com/questions/9215658/plot-a-circle-with-pyplot)"
      ]
    },
    {
      "cell_type": "markdown",
      "metadata": {
        "id": "Rlo6QGYDv5_i",
        "colab_type": "text"
      },
      "source": [
        "Estamos lidando com o mapa 1\n"
      ]
    },
    {
      "cell_type": "code",
      "metadata": {
        "id": "dLpsADWSvk6P",
        "colab_type": "code",
        "colab": {}
      },
      "source": [
        "A = (268,246)\n",
        "B = (410,246)\n",
        "C = (410,355)\n",
        "D = (268,355)\n",
        "E = (403,347)\n",
        "F = (276,347)\n",
        "G = (276,255)\n",
        "H = (401,255)\n",
        "I = (289,266)\n",
        "J = (305,320)\n",
        "K = (305,255)\n",
        "L = (312,255)\n",
        "M = (312,320)\n",
        "N = (388,344)\n",
        "O = (330,347)\n",
        "P = (339,347)\n",
        "Q = (339,285)\n",
        "R = (330,277)\n",
        "S = (376,277)\n",
        "T = (376,285)\n",
        "U = (357,309)\n",
        "V = (357,317)\n",
        "W = (401,309)\n",
        "X = (401,317)\n",
        "\n",
        "raio_circulo = 8 #px"
      ],
      "execution_count": 0,
      "outputs": []
    },
    {
      "cell_type": "code",
      "metadata": {
        "id": "gva21pGOxC8o",
        "colab_type": "code",
        "colab": {}
      },
      "source": [
        "import pylab as pl\n",
        "import matplotlib.pyplot as plt\n",
        "from matplotlib import collections  as mc"
      ],
      "execution_count": 0,
      "outputs": []
    },
    {
      "cell_type": "code",
      "metadata": {
        "id": "kq27UcNNxIZk",
        "colab_type": "code",
        "colab": {}
      },
      "source": [
        "lines = [ [A,B],\n",
        "          [B,C],\n",
        "          [C,D],\n",
        "          [D,A],\n",
        "          [G,K],\n",
        "          [K,J],\n",
        "          [J,M],\n",
        "          [M,L],\n",
        "          [L,H],\n",
        "          [H,W],\n",
        "          [W,U],\n",
        "          [U,V],\n",
        "          [V,X],\n",
        "          [X,E],\n",
        "          [E,P],\n",
        "          [P,Q],\n",
        "          [Q,T],\n",
        "          [T,S],\n",
        "          [S,R],\n",
        "          [R,O],\n",
        "          [O,F],\n",
        "          [F,G]]"
      ],
      "execution_count": 0,
      "outputs": []
    },
    {
      "cell_type": "code",
      "metadata": {
        "id": "PdcJ7PM7zfJf",
        "colab_type": "code",
        "colab": {}
      },
      "source": [
        "circulo_azul = plt.Circle(I, raio_circulo, color = 'blue')\n",
        "circulo_verde = plt.Circle(N,raio_circulo, color = 'green')"
      ],
      "execution_count": 0,
      "outputs": []
    },
    {
      "cell_type": "code",
      "metadata": {
        "id": "RB6aDyRqxDt9",
        "colab_type": "code",
        "colab": {
          "base_uri": "https://localhost:8080/",
          "height": 269
        },
        "outputId": "4903c617-1fba-4365-cdd2-4dfd2808695b"
      },
      "source": [
        "lc = mc.LineCollection(lines, colors = (0,0,0,1))\n",
        "fig, ax = pl.subplots()\n",
        "ax.add_collection(lc)\n",
        "ax.add_artist(circulo_azul)\n",
        "ax.add_artist(circulo_verde)\n",
        "ax.autoscale()\n",
        "ax.margins(0.1)"
      ],
      "execution_count": 52,
      "outputs": [
        {
          "output_type": "display_data",
          "data": {
            "image/png": "[encoded data removed]",
            "text/plain": [
              "<Figure size 432x288 with 1 Axes>"
            ]
          },
          "metadata": {
            "tags": []
          }
        }
      ]
    }
  ]
}